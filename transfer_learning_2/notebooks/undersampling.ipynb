{
 "cells": [
  {
   "cell_type": "code",
   "execution_count": 2,
   "metadata": {
    "collapsed": true
   },
   "outputs": [],
   "source": [
    "# https://stackoverflow.com/a/53854075\n",
    "import os\n",
    "import shutil\n",
    "import random\n",
    "\n",
    "def get_file_list(input_dir):\n",
    "    return [file for file in os.listdir(input_dir) if os.path.isfile(os.path.join(input_dir, file))]\n",
    "\n",
    "def get_random_files(file_list, N):\n",
    "    return random.sample(file_list, N)\n",
    "\n",
    "def copy_files(random_files, input_dir, output_dir):\n",
    "    for file in random_files:\n",
    "        shutil.copy(os.path.join(input_dir, file), output_dir)\n",
    "\n",
    "def main(input_dir, output_dir, N):\n",
    "    file_list = get_file_list(input_dir)\n",
    "    random_files = get_random_files(file_list, N)\n",
    "    copy_files(random_files, input_dir, output_dir)"
   ]
  },
  {
   "cell_type": "code",
   "execution_count": 8,
   "outputs": [],
   "source": [
    "import utils\n",
    "data_fldr = utils.data_fldr + \"/imagewoof-320\"\n",
    "\n",
    "os.mkdir(f\"{data_fldr}/train_balanced\")\n",
    "for c in [\"australian terrier\", \"beagle\", \"border terrier\", \"dingo\", \"english foxhound\", \"golden retriever\", \n",
    "          \"old english sheepdog\", \"rhodesian ridgeback\", \"samoyed\", \"shih tzu\"]:\n",
    "    os.mkdir(f\"{data_fldr}/train_balanced/{c}\")\n",
    "    main(input_dir=f\"{data_fldr}/train/{c}\", output_dir=f\"{data_fldr}/train_balanced/{c}\", N=754)"
   ],
   "metadata": {
    "collapsed": false,
    "pycharm": {
     "name": "#%%\n"
    }
   }
  }
 ],
 "metadata": {
  "kernelspec": {
   "display_name": "Python 3",
   "language": "python",
   "name": "python3"
  },
  "language_info": {
   "codemirror_mode": {
    "name": "ipython",
    "version": 2
   },
   "file_extension": ".py",
   "mimetype": "text/x-python",
   "name": "python",
   "nbconvert_exporter": "python",
   "pygments_lexer": "ipython2",
   "version": "2.7.6"
  }
 },
 "nbformat": 4,
 "nbformat_minor": 0
}